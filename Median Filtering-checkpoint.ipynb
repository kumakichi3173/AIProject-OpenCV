{
 "cells": [
  {
   "cell_type": "code",
   "execution_count": null,
   "id": "289a4780",
   "metadata": {},
   "outputs": [],
   "source": [
    "# Add a “salt and pepper” noise to an image and then use a \"median filter\" on the image"
   ]
  },
  {
   "cell_type": "code",
   "execution_count": 6,
   "id": "097b4b41",
   "metadata": {
    "scrolled": true
   },
   "outputs": [
    {
     "data": {
      "text/plain": [
       "True"
      ]
     },
     "execution_count": 6,
     "metadata": {},
     "output_type": "execute_result"
    }
   ],
   "source": [
    "import random\n",
    "import cv2\n",
    "# importing plt for the image title  \n",
    "from matplotlib import pyplot as plt\n",
    "\n",
    "def add_noise(img):\n",
    " \n",
    "    # get the dimensions of the image\n",
    "    row , col = img.shape\n",
    "     \n",
    "    # randomly pick some pixels in the\n",
    "    # image for coloring them white\n",
    "    # pick a random number between 300 and 10000\n",
    "    number_of_pixels = random.randint(300, 10000)\n",
    "    for i in range(number_of_pixels):\n",
    "       \n",
    "        # pick a random y coordinate\n",
    "        y_coord=random.randint(0, row - 1)\n",
    "         \n",
    "        # pick a random x coordinate\n",
    "        x_coord=random.randint(0, col - 1)\n",
    "         \n",
    "        # color that pixel to white\n",
    "        img[y_coord][x_coord] = 255\n",
    "         \n",
    "    # randomly pick some pixels in\n",
    "    # the image for coloring them black\n",
    "    # pick a random number between 300 and 10000\n",
    "    number_of_pixels = random.randint(300 , 10000)\n",
    "    for i in range(number_of_pixels):\n",
    "       \n",
    "        # pick a random y coordinate\n",
    "        y_coord=random.randint(0, row - 1)\n",
    "         \n",
    "        # pick a random x coordinate\n",
    "        x_coord=random.randint(0, col - 1)\n",
    "         \n",
    "        # color that pixel to black\n",
    "        img[y_coord][x_coord] = 0\n",
    "         \n",
    "    return img\n",
    " \n",
    "# salt-and-pepper noise can\n",
    "# be applied only to grayscale images\n",
    "# read the color image in grayscale image\n",
    "img = cv2.imread('circuitboard.png', cv2.IMREAD_GRAYSCALE)\n",
    " \n",
    "#store the image\n",
    "cv2.imwrite('saltandpepper.png', add_noise(img))"
   ]
  },
  {
   "cell_type": "code",
   "execution_count": 5,
   "id": "0e631ad3",
   "metadata": {},
   "outputs": [
    {
     "data": {
      "text/plain": [
       "<function destroyAllWindows>"
      ]
     },
     "execution_count": 5,
     "metadata": {},
     "output_type": "execute_result"
    }
   ],
   "source": [
    "cv2.imshow('saltandpepper', img) # display img with salt and pepper noise \n",
    "cv2.waitKey(0)        # wait for a key press to\n",
    "cv2.destroyAllWindows # close the img window"
   ]
  },
  {
   "cell_type": "code",
   "execution_count": 3,
   "id": "1e0f1d80",
   "metadata": {},
   "outputs": [
    {
     "data": {
      "text/plain": [
       "<function destroyAllWindows>"
      ]
     },
     "execution_count": 3,
     "metadata": {},
     "output_type": "execute_result"
    }
   ],
   "source": [
    "img = cv2.imread('saltandpepper.png') # load image\n",
    "img_median = cv2.medianBlur(img, 5) # add median filter to image\n",
    "\n",
    "cv2.imshow('Median Filter', img_median) # display img with median filter\n",
    "cv2.waitKey(0)        # wait for a key press to\n",
    "cv2.destroyAllWindows # close the img window"
   ]
  }
 ],
 "metadata": {
  "kernelspec": {
   "display_name": "Python 3 (ipykernel)",
   "language": "python",
   "name": "python3"
  },
  "language_info": {
   "codemirror_mode": {
    "name": "ipython",
    "version": 3
   },
   "file_extension": ".py",
   "mimetype": "text/x-python",
   "name": "python",
   "nbconvert_exporter": "python",
   "pygments_lexer": "ipython3",
   "version": "3.9.7"
  }
 },
 "nbformat": 4,
 "nbformat_minor": 5
}
